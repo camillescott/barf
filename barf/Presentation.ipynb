{
 "cells": [
  {
   "cell_type": "markdown",
   "metadata": {
    "slideshow": {
     "slide_type": "slide"
    }
   },
   "source": [
    "---\n",
    "\n",
    "# *barf*: a drop-in bioinformatics file format validator\n",
    "\n",
    "---\n",
    "\n",
    "## Camille Scott\n",
    "### Lab for Data Intensive Biology\n",
    "### March 18, 2016\n",
    "\n",
    "---"
   ]
  },
  {
   "cell_type": "markdown",
   "metadata": {
    "slideshow": {
     "slide_type": "slide"
    }
   },
   "source": [
    "---\n",
    "\n",
    "## Background\n",
    "\n",
    "---\n",
    "\n",
    "* High-throughput DNA sequencing creates HUGE volumes of data\n",
    "* Often times this data is processed through complex pipelines\n",
    "\n",
    "---"
   ]
  },
  {
   "cell_type": "markdown",
   "metadata": {
    "slideshow": {
     "slide_type": "subslide"
    }
   },
   "source": [
    "![cost](img/costpergenome2015.jpg)"
   ]
  },
  {
   "cell_type": "markdown",
   "metadata": {
    "slideshow": {
     "slide_type": "subslide"
    }
   },
   "source": [
    "![workflow](img/workflow_galaxy.jpg)"
   ]
  },
  {
   "cell_type": "markdown",
   "metadata": {
    "slideshow": {
     "slide_type": "subslide"
    }
   },
   "source": [
    "![workflow](img/workflow.svg)"
   ]
  },
  {
   "cell_type": "markdown",
   "metadata": {
    "slideshow": {
     "slide_type": "slide"
    }
   },
   "source": [
    "---\n",
    "\n",
    "## Motivation\n",
    "\n",
    "---\n",
    "\n",
    "* Most bioinformatics software is developed by academic labs; and\n",
    "* most academic labs don't have the time or money for formal verification; and\n",
    "* most academic labs can't even afford software engineers; \n",
    "* AND, most users of the software are barely computationally literate\n",
    "\n",
    "---\n",
    "\n",
    "#### The result?\n",
    "\n"
   ]
  },
  {
   "cell_type": "markdown",
   "metadata": {
    "slideshow": {
     "slide_type": "fragment"
    }
   },
   "source": [
    "<center>\n",
    "![bomb](http://bestanimations.com/Military/Explosions/nuclear-atom-bomg-explosion-animated-gif-4.gif)\n",
    "</center>\n",
    "\n",
    "---"
   ]
  },
  {
   "cell_type": "markdown",
   "metadata": {
    "slideshow": {
     "slide_type": "subslide"
    }
   },
   "source": [
    "---\n",
    "\n",
    "### Motivation: The Story of \"L\"\n",
    "\n",
    "---\n",
    "\n",
    "\"L is a new graduate student with a background in bench biology who has been diving deeper into bioinformatics as a part of her PhD research. “L” is assembling a genome, and her analysis pipeline includes the widely-used program Trimmomatic [1] to remove low-quality sequences. Some days later, when the pipeline has completed, she starts to look more closely at her results, and realizes that one of the sequence files output by Trimmomatic is truncated: the FASTQ formatted file ends part-way through a DNA sequence, and includes no quality score. This does not trigger a failure until a few steps down the pipeline, when another program mysteriously crashes. As it turns out, Trimmomatic occasionally fails due to some unpredictable error which cannot be reproduced, and instead of returning an error code, returns 0 and truncates its output. Had the program behaved more appropriately, “L” would have identified the problem early-on and saved significant time.\"\n",
    "\n",
    "---"
   ]
  },
  {
   "cell_type": "markdown",
   "metadata": {
    "slideshow": {
     "slide_type": "subslide"
    }
   },
   "source": [
    "---\n",
    "\n",
    "### Problem!\n",
    "\n",
    "* This story is *common*\n",
    "* Reporting bugs is time consuming, fixing them moreso\n",
    "* Many bugs are unpredictabe or system-dependent\n",
    "* Bad data gives bad results: junk in, junk out\n",
    "\n",
    "---"
   ]
  },
  {
   "cell_type": "markdown",
   "metadata": {
    "slideshow": {
     "slide_type": "fragment"
    }
   },
   "source": [
    "*barf tries to solve this problem by allowing easy drop-in data validation for any bioinformatics program.*\n",
    "\n",
    "---"
   ]
  },
  {
   "cell_type": "markdown",
   "metadata": {
    "slideshow": {
     "slide_type": "subslide"
    }
   },
   "source": [
    "### Aside: why the name?\n",
    "\n",
    "Our lab likes silly names, and we discussed this concept a while back. It goes along well with my mRNA annotator, dammit :)"
   ]
  },
  {
   "cell_type": "markdown",
   "metadata": {
    "slideshow": {
     "slide_type": "slide"
    }
   },
   "source": [
    "## Case: FASTA Format\n",
    "\n",
    "* This barf prototype targets FASTA format\n",
    "    - Widely used, poorly defined, often broken\n",
    "* The expected format can be defined in BNF form as follows:\n",
    "\n",
    "    \n",
    "    <file>     ::= <token> | <token> <file>\n",
    "    <token>    ::= <ignore> | <seq>\n",
    "    <ignore>   ::= <whitespace> | <comment> <newline>\n",
    "    <seq>      ::= <header> <molecule> <newline>\n",
    "    <header>   ::= \">\" <arbitrary text> <newline>\n",
    "    <molecule> ::= <mol-line> | <mol-line> <molecule>\n",
    "    <mol-line> ::= <nucl-line> | <prot-line>\n",
    "    <nucl-line>::= \"^[ACGTURYKMSWBDHVNX-]+$\"\n",
    "<prot-line>::= \"^[ABCDEFGHIKLMNOPQRSTUVWYZX*-]+$\""
   ]
  },
  {
   "cell_type": "markdown",
   "metadata": {
    "slideshow": {
     "slide_type": "subslide"
    }
   },
   "source": [
    "### in reality....\n",
    "\n",
    "* In reality, this format is often toyed with\n",
    "* Many programs fail on the header, many mangle the sequence with line breaks, many parsers don't follow convention\n",
    "* The format itself is trivial to parse; the data is what needs to be checked"
   ]
  },
  {
   "cell_type": "markdown",
   "metadata": {
    "slideshow": {
     "slide_type": "subslide"
    }
   },
   "source": [
    "---\n",
    "### Approach\n",
    "\n",
    "---\n",
    "\n",
    "* Instead of focusing on parsing, we focus on a limited model of the data\n",
    "* This is a crude type system based on regular expressions\n",
    "* Can be arbitrary python code\n",
    "\n",
    "---"
   ]
  },
  {
   "cell_type": "code",
   "execution_count": 2,
   "metadata": {
    "collapsed": true,
    "slideshow": {
     "slide_type": "subslide"
    }
   },
   "outputs": [],
   "source": [
    "import re\n",
    "import string\n",
    "\n",
    "class SequenceModel(object):\n",
    "\n",
    "    def __init__(self, alphabet, flags=re.IGNORECASE):\n",
    "        self.alphabet = alphabet\n",
    "        self.pattern = re.compile(r'[{alphabet}]*$'.format(alphabet=alphabet),\n",
    "                                  flags=flags)\n",
    "\n",
    "    def __str__(self):\n",
    "        return 'SequenceModel<{0}>'.format(self.alphabet)\n",
    "\n",
    "    def checkValid(self, data):\n",
    "        if self.pattern.match(data) is None:\n",
    "            raise AssertionError('{0} failed to match \"{1}\"'.format(self, data))\n",
    "\n",
    "dnaModel = SequenceModel('ACGT')\n",
    "dnanModel = SequenceModel('ACGTN')\n",
    "iupacModel = SequenceModel('ARNDCQEGHILKMFPSTWXVBZX')\n",
    "\n",
    "models = {'DNA': dnaModel,\n",
    "          'DNA+N': dnanModel,\n",
    "          'IUPAC': iupacModel}"
   ]
  },
  {
   "cell_type": "markdown",
   "metadata": {
    "slideshow": {
     "slide_type": "subslide"
    }
   },
   "source": [
    "---\n",
    "\n",
    "* Gives a simple framework for defined what the different *fields* in the data should look like\n",
    "* The parsing is done with third-party libraries: we assume the parsers make a best-effort to consume that data\n",
    "* In a way, we validate both the parser and the program"
   ]
  },
  {
   "cell_type": "markdown",
   "metadata": {
    "slideshow": {
     "slide_type": "slide"
    }
   },
   "source": [
    "---\n",
    "## What about \"L\"?\n",
    "---\n",
    "\n",
    "* Only validating data elements is not enough: we need to validate the data is a whole\n",
    "* Introduce a collection: keep track of what inputs and outputs\n",
    "* We want $OUTPUT \\subseteq INPUT$ where $INPUT$ and $OUTPUT$ are sets of some record (in thise case, FASTA)"
   ]
  },
  {
   "cell_type": "markdown",
   "metadata": {
    "slideshow": {
     "slide_type": "subslide"
    }
   },
   "source": [
    "---\n",
    "### Bloom Filters\n",
    "---\n",
    "\n",
    "* This data is BIG! Hundreds of millions of elements!\n",
    "* Exact counting not an option\n",
    "* Instead, use a bloom filter to represent the set"
   ]
  },
  {
   "cell_type": "markdown",
   "metadata": {
    "slideshow": {
     "slide_type": "fragment"
    }
   },
   "source": [
    "![bf](https://upload.wikimedia.org/wikipedia/commons/thumb/a/ac/Bloom_filter.svg/2000px-Bloom_filter.svg.png)"
   ]
  },
  {
   "cell_type": "markdown",
   "metadata": {
    "slideshow": {
     "slide_type": "fragment"
    }
   },
   "source": [
    "This way, we can assert that each element in the output is an element of the input."
   ]
  },
  {
   "cell_type": "markdown",
   "metadata": {
    "slideshow": {
     "slide_type": "slide"
    }
   },
   "source": [
    "---\n",
    "## Implementation\n",
    "---\n",
    "\n",
    "* The invocation format is based on GNU `time`\n",
    "* Pass the target program and arguments to barf; pipe input to barf; output on standard out\n",
    "* barf manages the subprocess in the background: validates input, sends it to a FIFO for the program to consume"
   ]
  },
  {
   "cell_type": "code",
   "execution_count": 5,
   "metadata": {
    "collapsed": false,
    "slideshow": {
     "slide_type": "fragment"
    }
   },
   "outputs": [
    {
     "name": "stdout",
     "output_type": "stream",
     "text": [
      "FIFO constructed at /var/folders/ml/nnm5g2cn6xscbd6jd6lrqys40000gn/T/tmpThQhFs/named_pipe\n",
      "FIFO destroyed at /var/folders/ml/nnm5g2cn6xscbd6jd6lrqys40000gn/T/tmpThQhFs/named_pipe\n",
      ">c240946_g1_i1 len=534 path=[677:0-147 40:148-273 1221:274-533]\n",
      "TTTTTTTTTTTTTTTTTCCCTTTTAAAAAATTTAATTCCAGTAAATTGTATTGCCACATGTCCACACACAAAAATACTTTTTTTGCGAAACGAACCATTGCAATGGTTTTATCAAAATTGTACAGACACAGCGAAGAGAGAGAGAGAAAACAATCGTGGAGGTCAGGCAACGCTATCTGCTGCACCAGTTGACTGAATGGAAACTAATTGAAAAGGGCCATTGTGTGTGAGATGTTTGTCTGTAATCATTCACCGCTGGGGACTCCATCAATACTCAGTGCCCAGAGCGCCCTCCCCGCAAGTGTGAAAGGTGAGATATTTCTTCTTGAGGTGTGGTTCTTGTTGCTGCTGCTAACTCTGGTGCGTGTGGCACCCAGAGGGGAAAATTTTACGTTGAATTAGACATCACAAATATAGGCCATATTGGACATAGCTAGCCTCCCCATATCTAGCTCTCTATGGCTATATAATAATTAACGTACAGCCCTTTCTCAATCCATTGACGGATGCAGGCTTCCCCATGTACTCTGCGTT\n",
      ">c148030_g1_i1 len=387 path=[722:0-34 30:35-173 772:174-386]\n",
      "GATTGCAAGGATCCATACTCTTTGTTTTTTTCGGGAAAGCCACGTAGGTATAAAATAATATACAAGTTACAATGTACAAGTAGTACTCATTTTTCAACCCCAAAGCGATGATAATTGACCATCTGAAGATAATTTTAACTTACAAACGTACCATTTGTGGGTTGCGTGCTCTAATTATTGTTCCACGGGTCCAGATATATTGCTTAATCCAACTAATTGTAATTGACCTGCGGTTGGTCAGAAAAAGCCTCAATCGGGTCTCAAGATTATTTGCGGAGTGACCATGCTTGAGATGTTTATTCAGTTCCTCGTGAGACGACACTGGAAGAAAAAAAACCTGCACATGAATGGCTAACTCTCAAAAATCCGCATACTCTGCGTTGATAC\n",
      ">c367877_g3_i1 len=353 path=[4598:0-14 2213:15-67 6018:68-75 6028:76-80 2276:81-83 2279:84-90 6039:91-116 6065:117-126 2321:127-129 2324:130-180 6121:181-181 1432:182-212 1551:213-269 1639:270-283 894:284-285 2473:286-352]\n",
      "CGCAGAGTACGCGGGATTTGTTGGCAATGTACAACGGCCTGCATATAAACACAGCGGTTGTAATTAACGGTCGATGTTTTTTTGTGTGTGTGGATTCATTCCGATGTCACGCTCGTCGTTCGCAAGCGGCGACTCCTTGCCTGGTGGATAGGGGGGTGGGTGGGGGGTTGGTGAGCTTGGGACCGTTGATGCCCCTTAACGTTCTATTTGTGTGATTCCCGGAGGCAGCCCGCTACTTGCTTTTCAGCCTCACTACGAGCATCGCTAAATGGGATGAGTTGATCGACTACTTAATTTATATTTTCAATCTTACAGTTTACTCAAGTGCTATATATTTATCAACTGGCAAGAGG\n",
      ">c456521_g1_i1 len=240 path=[1:0-239]\n",
      "CAATTGTATTTCTATTCCTCGTTCCGTTTGTTGAATTTCAATATTGTCAGTGTGTCTAGCTGTTACGTTTGTTATTCCGTTCTCCTTGCCTGCTTGCTACACTCGAACGTGGATATAATCTTGGGTGGCAGCCCAGACTCAAATCCAGGACCTGGCGTTGTTAACCATTTGGTCTTGATGGTCTCATCACACGAAGTCTAGTCATCCTCGCGACGGTTTTTGGCGAGCCATCGAACAAAG\n",
      ">c100731_g1_i1 len=392 path=[441:0-196 36:197-391]\n",
      "TGGATGGAAAGGCCTGTGCTGCCGTTGGACAGAGTGGCCTCATGGCTCTTTACGATATGCTATTTACTCAACTTGATGTATCCTCTTCCCAGCTTCTTGTGACAGACAGTGATTTTGAGAATCCAAACTTCCGGGAGAGGCTCCGTGAAACTGTTGAGTCACTATTAGATCTTAAAGTTGTACCAATATTTAATGAGAATGATGCCATCAGCACTAGAAAGGCTCCATATGAGGATTCATCTGGTATATTTTGGGATAACGATAGTTTAGCCGGTCTTCTGGCTATAGAACTCAAAGCAGATCTTCTTGTTCTACTCAGTGACGTGGATGGCCTCTATAGTGGTCCACCAAGTGAACCTCAATCAAAGATAATACATACCTACATCAAAGAA\n"
     ]
    }
   ],
   "source": [
    "# a no-op\n",
    "!cat test.500.fasta | ./barf --sequence-model DNA cat > test.out.fa\n",
    "!head test.out.fa"
   ]
  },
  {
   "cell_type": "code",
   "execution_count": 6,
   "metadata": {
    "collapsed": false,
    "slideshow": {
     "slide_type": "subslide"
    }
   },
   "outputs": [
    {
     "name": "stdout",
     "output_type": "stream",
     "text": [
      "FIFO constructed at /var/folders/ml/nnm5g2cn6xscbd6jd6lrqys40000gn/T/tmpHyBIkF/named_pipe\r\n",
      "Exception in thread Thread-1:\r\n",
      "Traceback (most recent call last):\r\n",
      "  File \"/Users/camille/anaconda/envs/bio/lib/python2.7/threading.py\", line 801, in __bootstrap_inner\r\n",
      "    self.run()\r\n",
      "  File \"/Users/camille/anaconda/envs/bio/lib/python2.7/threading.py\", line 754, in run\r\n",
      "    self.__target(*self.__args, **self.__kwargs)\r\n",
      "  File \"./barf\", line 40, in handle_input\r\n",
      "    record = recordModel(record.name, record.sequence)\r\n",
      "  File \"/Users/camille/w/barf/barf/fasta.py\", line 15, in factory\r\n",
      "    sequence_model.checkValid(sequence)\r\n",
      "  File \"/Users/camille/w/barf/barf/sequencemodel.py\", line 17, in checkValid\r\n",
      "    raise AssertionError('{0} failed to match \"{1}\"'.format(self, data))\r\n",
      "AssertionError: SequenceModel<ACGT> failed to match \"FASTALINEWITHBADTHINGS\"\r\n",
      "\r\n",
      "FIFO destroyed at /var/folders/ml/nnm5g2cn6xscbd6jd6lrqys40000gn/T/tmpHyBIkF/named_pipe\r\n"
     ]
    }
   ],
   "source": [
    "# a bad sequence\n",
    "!cat badfasta.fa | ./barf --sequence-model DNA cat > test.out.fa"
   ]
  },
  {
   "cell_type": "code",
   "execution_count": 8,
   "metadata": {
    "collapsed": false,
    "slideshow": {
     "slide_type": "subslide"
    }
   },
   "outputs": [
    {
     "name": "stdout",
     "output_type": "stream",
     "text": [
      "FIFO constructed at /var/folders/ml/nnm5g2cn6xscbd6jd6lrqys40000gn/T/tmpL8bLeQ/named_pipe\r\n",
      "FIFO destroyed at /var/folders/ml/nnm5g2cn6xscbd6jd6lrqys40000gn/T/tmpL8bLeQ/named_pipe\r\n"
     ]
    }
   ],
   "source": [
    "# we don't check biological meaning\n",
    "!cat badfasta.fa | ./barf --sequence-model IUPAC cat > test.out.fa"
   ]
  },
  {
   "cell_type": "code",
   "execution_count": 10,
   "metadata": {
    "collapsed": false,
    "slideshow": {
     "slide_type": "subslide"
    }
   },
   "outputs": [
    {
     "name": "stdout",
     "output_type": "stream",
     "text": [
      "FIFO constructed at /var/folders/ml/nnm5g2cn6xscbd6jd6lrqys40000gn/T/tmpwpxUs7/named_pipe\n",
      "Exception in thread Thread-2:\n",
      "Traceback (most recent call last):\n",
      "  File \"/Users/camille/anaconda/envs/bio/lib/python2.7/threading.py\", line 801, in __bootstrap_inner\n",
      "    self.run()\n",
      "  File \"/Users/camille/anaconda/envs/bio/lib/python2.7/threading.py\", line 754, in run\n",
      "    self.__target(*self.__args, **self.__kwargs)\n",
      "  File \"./barf\", line 51, in handle_cmd\n",
      "    collection.checkIn(record.sequence)\n",
      "  File \"/Users/camille/w/barf/barf/collectionmodel.py\", line 14, in checkIn\n",
      "    raise AssertionError('{0} not in input collection!'.format(data))\n",
      "AssertionError: ATGGG not in input collection!\n",
      "\n",
      "FIFO destroyed at /var/folders/ml/nnm5g2cn6xscbd6jd6lrqys40000gn/T/tmpwpxUs7/named_pipe\n"
     ]
    }
   ],
   "source": [
    "# adding in a new sequence\n",
    "!cat test.500.fasta | ./barf --sequence-model DNA ./fraudster.py > /dev/null"
   ]
  },
  {
   "cell_type": "markdown",
   "metadata": {
    "slideshow": {
     "slide_type": "slide"
    }
   },
   "source": [
    "---\n",
    "## Conclusions\n",
    "---\n",
    "\n",
    "* This is a simple prototype of a way to approach the problem\n",
    "* Lab is hoping to expand this to a general tool for the community\n",
    "* Needs more formats, and better performance\n",
    "---"
   ]
  }
 ],
 "metadata": {
  "celltoolbar": "Slideshow",
  "kernelspec": {
   "display_name": "Python 2",
   "language": "python",
   "name": "python2"
  },
  "language_info": {
   "codemirror_mode": {
    "name": "ipython",
    "version": 2
   },
   "file_extension": ".py",
   "mimetype": "text/x-python",
   "name": "python",
   "nbconvert_exporter": "python",
   "pygments_lexer": "ipython2",
   "version": "2.7.11"
  }
 },
 "nbformat": 4,
 "nbformat_minor": 0
}
